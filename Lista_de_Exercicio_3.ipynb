{
  "nbformat": 4,
  "nbformat_minor": 0,
  "metadata": {
    "colab": {
      "name": "Lista_de_Exercicio_3.ipynb",
      "provenance": [],
      "collapsed_sections": [
        "NyvxHviMpShq"
      ],
      "toc_visible": true,
      "include_colab_link": true
    },
    "kernelspec": {
      "name": "python3",
      "display_name": "Python 3"
    }
  },
  "cells": [
    {
      "cell_type": "markdown",
      "metadata": {
        "id": "view-in-github",
        "colab_type": "text"
      },
      "source": [
        "<a href=\"https://colab.research.google.com/github/arthurcc0/Project_git/blob/master/Lista_de_Exercicio_3.ipynb\" target=\"_parent\"><img src=\"https://colab.research.google.com/assets/colab-badge.svg\" alt=\"Open In Colab\"/></a>"
      ]
    },
    {
      "cell_type": "markdown",
      "metadata": {
        "id": "kGlmyFQMaR-U",
        "colab_type": "text"
      },
      "source": [
        "# Lista de Exercício 3\n",
        "### Introdução à Visão Computacional (SEL0339/SEL5886)\n",
        "\n",
        "**Instruções:**\n",
        "\n",
        " 1. Esta lista consiste de 4 exercícios.\n",
        " 1. Deve-se colocar comentários nos códigos desenvolvidos.\n",
        " 1. As perguntas devem ser respondidas também como comentários no arquivo.\n",
        " 1. Colocar seu nome e número USP abaixo.\n",
        " 1. Quaisquer problemas na execução das listas, entrar em contato com os monitores.\n",
        " 1. Depois de terminado os exercícios, deve ser gerado um arquivo **extensão .ipynb** para ser enviado ao professor pelo E-DISCIPLINAS da disciplina até a data máxima de entrega.\n",
        " 1. Caso não seja enviado, o aluno ficará sem nota.\n",
        "\n",
        "\n",
        "---\n",
        "\n",
        "\n",
        "\n",
        " <table class=\"tfo-notebook-buttons\" align=\"left\">\n",
        "  <td>\n",
        "    <a target=\"_blank\" href=\"https://colab.research.google.com/github/LAVI-USP/SEL0339-SEL5886/blob/master/praticas/Lista_de_Exercicio_3.ipynb\"><img src=\"https://www.tensorflow.org/images/colab_logo_32px.png\" />Executar no Google Colab</a>\n",
        "  </td>\n",
        "  <td>\n",
        "    <a target=\"_blank\" href=\"https://github.com/LAVI-USP/SEL0339-SEL5886/blob/master/praticas/Lista_de_Exercicio_3.ipynb\"><img src=\"https://www.tensorflow.org/images/GitHub-Mark-32px.png\" />Ver codigo fonte no GitHub</a>\n",
        "  </td>\n",
        "</table>\n"
      ]
    },
    {
      "cell_type": "markdown",
      "metadata": {
        "id": "L3qYz1dB-tlT",
        "colab_type": "text"
      },
      "source": [
        "`Nome: `\n",
        "\n",
        "`Número USP: `"
      ]
    },
    {
      "cell_type": "markdown",
      "metadata": {
        "id": "b9uBe7nevota",
        "colab_type": "text"
      },
      "source": [
        "### Introdução:\n",
        "\n",
        "Nessa lista de exercícios vamos estudar sobre histogramas, transformações de intensidade ponto a ponto e utilizar uma função para equalização de histogramas. Primeiramente vamos importar as bibliotecas que iremos utilizar:"
      ]
    },
    {
      "cell_type": "code",
      "metadata": {
        "id": "xnKV2As4aCX1",
        "colab_type": "code",
        "colab": {}
      },
      "source": [
        "import numpy as np\n",
        "import matplotlib.pyplot as plt\n",
        "import cv2 as cv"
      ],
      "execution_count": null,
      "outputs": []
    },
    {
      "cell_type": "markdown",
      "metadata": {
        "id": "NyvxHviMpShq",
        "colab_type": "text"
      },
      "source": [
        "#### **Atenção**: os códigos abaixo são para fazer o download das imagens (EXECUTE-OS). Os mesmos não fazem parte dessa prática. "
      ]
    },
    {
      "cell_type": "code",
      "metadata": {
        "id": "Amk5CM273Afp",
        "colab_type": "code",
        "colab": {}
      },
      "source": [
        "import urllib.request\n",
        "\n",
        "try:\n",
        "  urllib.request.urlretrieve(\"https://github.com/LAVI-USP/SEL0339-SEL5886/raw/master/imagens/pratica_03/fotografo.tif\", \"fotografo.tif\")\n",
        "except:\n",
        "  print(\"[ERRO] Não foi possível fazer o download das imagens dessa prática. Entre em contato com o monitor\")\n",
        "\n",
        "try:\n",
        "  urllib.request.urlretrieve(\"https://github.com/LAVI-USP/SEL0339-SEL5886/raw/master/imagens/pratica_03/polem_baixo_contraste.bmp\", \"polem_baixo_contraste.bmp\")\n",
        "except:\n",
        "  print(\"[ERRO] Não foi possível fazer o download das imagens dessa prática. Entre em contato com o monitor\")\n",
        "\n",
        "try:\n",
        "  urllib.request.urlretrieve(\"https://github.com/LAVI-USP/SEL0339-SEL5886/raw/master/imagens/pratica_03/palavrascruzadas.tif\", \"palavrascruzadas.tif\")\n",
        "except:\n",
        "  print(\"[ERRO] Não foi possível fazer o download das imagens dessa prática. Entre em contato com o monitor\")\n",
        "\n",
        "try:\n",
        "  urllib.request.urlretrieve(\"https://github.com/LAVI-USP/SEL0339-SEL5886/raw/master/imagens/pratica_03/mriphantom.tif\", \"mriphantom.tif\")\n",
        "except:\n",
        "  print(\"[ERRO] Não foi possível fazer o download das imagens dessa prática. Entre em contato com o monitor\")"
      ],
      "execution_count": null,
      "outputs": []
    },
    {
      "cell_type": "markdown",
      "metadata": {
        "id": "ppupxqIr71zm",
        "colab_type": "text"
      },
      "source": [
        "### 1) Visualização de histogramas\n",
        "\n",
        "Então, o que é histograma? Você pode considerar o histograma como um gráfico ou plotagem, que dá uma ideia geral sobre a distribuição da intensidade de uma imagem. É um gráfico com valores de pixel (variando de 0 a 255, caso a quantização seja realizada em 8 bits) no eixo X e o número de pixels na imagem com a intensidade correspondente no eixo Y.\n",
        "\n",
        "É apenas outra forma de entender a imagem. Olhando para o histograma de uma imagem, você tem uma intuição sobre o contraste, brilho, distribuição de intensidade, etc. daquela imagem. Quase todas as ferramentas de processamento de imagem hoje oferecem recursos de histograma. \n",
        "\n",
        "<center><img src=\"https://github.com/LAVI-USP/SEL0339-SEL5886/raw/master/imagens/pratica_03/histograma.png\" style=\"width:650px;height:300px;\"></center>\n",
        "\n",
        "<center><caption><b> Figura 1:</b> Legenda.</b></caption></center>\n",
        "<caption><center> Referência: <a href=\"https://docs.opencv.org/master/d1/db7/tutorial_py_histogram_begins.html\">Histograms - OpenCV</a>.</center></caption>\n",
        "\n",
        "**Exercicio:**\n",
        "\n",
        "1. Mostrar o histograma da imagem ```fotografo.tif``` com o número de *bins* diferentes. Utilize ```bins=100``` e ```bins=50``` e comente os resultados.\n",
        "\n",
        "*Dica:* Utilize a função [plt.hist](https://matplotlib.org/3.3.1/api/_as_gen/matplotlib.pyplot.hist.html). \n",
        "\n",
        "*Ex:*\n",
        "``` python\n",
        "plt.hist(myImg.flatten(),bins=XX,density=False)\n",
        "```"
      ]
    },
    {
      "cell_type": "code",
      "metadata": {
        "id": "v3zOxtTSjJh8",
        "colab_type": "code",
        "colab": {}
      },
      "source": [
        "## -- Seu código começa AQUI -- ##\n",
        "\n",
        "## -- Seu código termina AQUI -- ##"
      ],
      "execution_count": null,
      "outputs": []
    },
    {
      "cell_type": "markdown",
      "metadata": {
        "id": "OcMh8xfE_EDX",
        "colab_type": "text"
      },
      "source": [
        "### 2) Transformação de intensidades\n",
        "\n",
        "As técnicas de processamento no domínio espacial operam diretamente nos pixels da imagem. A expressão geral para a função de transformação nos níveis de cinza pode ser dada por: \n",
        "\n",
        "$$g(x,y) = T[f(x,y)],$$\n",
        "\n",
        "sendo $f(x,y)$ a imagem de entrada e $g(x,y)$ a imagem de saída ou imagem processada. $T$ é um operador em $f$.\n",
        "\n",
        "\n",
        "2.1) Transformação linear:\n",
        "\n",
        "Um exemplo de função de transformação é a linear, tal que:\n",
        "\n",
        "$$g(x,y) = c \\times f(x,y) + b,$$\n",
        "\n",
        "onde $c$ é uma constante que controla o contraste e $b$ o brilho.\n",
        "\n",
        "**Exercício:**\n",
        "\n",
        "1. Aplique uma transformação linear na imagem ```polem_baixo_contraste.bmp``` de modo a alargar seu histograma para toda a faixa de valores de dados do tipo ```uint8```. Ou seja, encontre um valor de $c$ e $b$ para que a imagem esteja na faixa de 0 a 255.\n",
        "\n",
        "2. A partir do resultado anterior, aplique uma transformação linear na mesma imagem afim de gerar o seu negativo.\n",
        "\n",
        "3. Mostre os histogramas antes e depois das transformações.\n"
      ]
    },
    {
      "cell_type": "code",
      "metadata": {
        "id": "7ijwVq_bieYM",
        "colab_type": "code",
        "colab": {}
      },
      "source": [
        "## -- Seu código começa AQUI -- ##\n",
        "\n",
        "## -- Seu código termina AQUI -- ##"
      ],
      "execution_count": null,
      "outputs": []
    },
    {
      "cell_type": "markdown",
      "metadata": {
        "id": "u0PIlEKf7HZH",
        "colab_type": "text"
      },
      "source": [
        "2.2) Transformação não-linear:\n",
        "\n",
        "Agora iremos analisar algumas transformações não-lineares. A formula geral da transformação logarítmica ($log$) é dada por:\n",
        "\n",
        "$$g(x,y) = c * log(f(x,y) + 1),$$\n",
        "\n",
        "onde $c$ é uma constante. A figura 2 ilustra essa transformação, bem como algumas outras transformações já mencionadas.\n",
        "\n",
        "<center><img src=\"https://github.com/LAVI-USP/SEL0339-SEL5886/raw/master/imagens/pratica_03/log.png\" width=\"353\" height=\"320\"></center>\n",
        "\n",
        "<center><caption><b>Figura 2:</b> Exemplos de transformações ponto a ponto.</b></caption></center>\n",
        "<caption><center> Referência: Gonzalez and Woods, Digital Image Processing 3rd.</center></caption>\n",
        "\n",
        "A equação da transformação *gamma* é dada por:\n",
        "\n",
        "$$g(x,y) = c * f(x,y)^\\gamma$$\n",
        "\n",
        "onde $c$ tambem é uma constante. Como no caso da transformação logarítmica, curvas de transformação de potência com valores de $\\gamma$ menores que 1 mapeiam uma faixa estreita de valores escuros de entradas em uma faixa mais ampla de valores de saída, com o oposto se aplicando a valores mais altos de níveis de entrada. A figura 3 ilustra como são os formatos das curvas com diferentes valores de *gamma*.\n",
        "\n",
        "<center><img src=\"https://github.com/LAVI-USP/SEL0339-SEL5886/raw/master/imagens/pratica_03/gamma.png\" width=\"365\" height=\"330\"></center>\n",
        "\n",
        "<center><caption><b>Figura 3:</b> Curvas com diferentes valores de *gamma*.</b></caption></center>\n",
        "<caption><center>Referência: Gonzalez and Woods, Digital Image Processing 3rd.</center></caption>\n",
        "\n",
        "\n",
        "**Exercício:**\n",
        "\n",
        "1. Modificar a imagem ```mriphantom.tif``` usando as seguintes transformações não-lineares:\n",
        "\n",
        "*   ```G1 = np.uint8(65 * np.log10(img + 1))```\n",
        "*   ```G2 = np.uint8(img ** 1.5)```\n",
        "\n",
        "2. Mostrar as imagens e os histogramas resultantes de cada uma das transformações acima.\n",
        "3. Comente os resultados encontrados para cada uma delas, explicando o que a transformação utilizada fez com os níveis de cinza da imagem em relação ao contraste e brilho.\n",
        "4. Comente sobre a conversão de ```double``` para ```uint8``` e sua influência nos resultados."
      ]
    },
    {
      "cell_type": "code",
      "metadata": {
        "id": "P-vM4ArC2p-D",
        "colab_type": "code",
        "colab": {}
      },
      "source": [
        "## -- Seu código começa AQUI -- ##\n",
        "\n",
        "## -- Seu código termina AQUI -- ##"
      ],
      "execution_count": null,
      "outputs": []
    },
    {
      "cell_type": "markdown",
      "metadata": {
        "id": "UwovOaPtUIFf",
        "colab_type": "text"
      },
      "source": [
        "### 3) Equalização de histograma\n",
        "\n",
        "**Exercicio:**\n",
        "\n",
        "1. Faça a equalização de histograma da imagem ```polem_baixo_contraste.bmp``` utlizando a função [cv.equalizeHist](https://docs.opencv.org/2.4/modules/imgproc/doc/histograms.html?highlight=equalizehist#equalizehist) do OpenCV.\n",
        "\n",
        "2. Comente os resultados baseando-se nos histogramas das imagens antes e depois.\n"
      ]
    },
    {
      "cell_type": "code",
      "metadata": {
        "id": "ao7T6of3rL3q",
        "colab_type": "code",
        "colab": {}
      },
      "source": [
        "## -- Seu código começa AQUI -- ##\n",
        "\n",
        "## -- Seu código termina AQUI -- ##"
      ],
      "execution_count": null,
      "outputs": []
    },
    {
      "cell_type": "markdown",
      "metadata": {
        "id": "RxjVUijeDIfU",
        "colab_type": "text"
      },
      "source": [
        "### 4) Binarização\n",
        "\n",
        "**Exercicio:**\n",
        "\n",
        "1. Visulize o histograma da imagem `palavrascruzadas.tif`, defina um limiar (*threshold*) para binarização e realize a operação de transformação para imagem binária. O objetivo é separar ao máximo o que é considerado como peça do que é letra ou fundo da imagem.\n",
        "\n",
        "2. Apresente a imagem binarizada resultante. \n",
        "\n",
        "3. Comente os resultados.\n",
        "\n",
        "*Dica:* Você pode utilizar a função [cv.threshold](https://docs.opencv.org/master/d7/d1b/group__imgproc__misc.html#gae8a4a146d1ca78c626a53577199e9c57) ou técnicas regulares de programação *Python*. Utilize ambas para comparar os resultados.\n",
        "\n",
        "*Ex:*\n",
        "``` python\n",
        "cv.threshold(myImg, threshold, 255, cv.THRESH_BINARY)\n",
        "```"
      ]
    },
    {
      "cell_type": "code",
      "metadata": {
        "id": "SC8KT_BxH9RJ",
        "colab_type": "code",
        "colab": {}
      },
      "source": [
        "#@title Threshold para binarização{ run: \"auto\" }\n",
        "\n",
        "Threshold = 0 #@param {type:\"slider\", min:0, max:255, step:1}\n",
        "\n",
        "## -- Seu código começa AQUI -- ##\n",
        "\n",
        "## -- Seu código termina AQUI -- ##"
      ],
      "execution_count": null,
      "outputs": []
    }
  ]
}